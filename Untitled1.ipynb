{
  "nbformat": 4,
  "nbformat_minor": 0,
  "metadata": {
    "colab": {
      "name": "Untitled1.ipynb",
      "provenance": [],
      "authorship_tag": "ABX9TyMyuWeSFoxMavmm8Pb5HbLs",
      "include_colab_link": true
    },
    "kernelspec": {
      "name": "python3",
      "display_name": "Python 3"
    },
    "language_info": {
      "name": "python"
    }
  },
  "cells": [
    {
      "cell_type": "markdown",
      "metadata": {
        "id": "view-in-github",
        "colab_type": "text"
      },
      "source": [
        "<a href=\"https://colab.research.google.com/github/Jesuskor/RN_metro/blob/main/Untitled1.ipynb\" target=\"_parent\"><img src=\"https://colab.research.google.com/assets/colab-badge.svg\" alt=\"Open In Colab\"/></a>"
      ]
    },
    {
      "cell_type": "code",
      "execution_count": 63,
      "metadata": {
        "id": "RUR-jpWc4vQP"
      },
      "outputs": [],
      "source": [
        "import csv\n",
        "import tensorflow.compat.v1 as tf\n",
        "\n",
        "tf.disable_v2_behavior() "
      ]
    },
    {
      "cell_type": "code",
      "source": [
        "training_set = []\n",
        "training_set_y = []"
      ],
      "metadata": {
        "id": "udp8KJvf41hJ"
      },
      "execution_count": 64,
      "outputs": []
    },
    {
      "cell_type": "code",
      "source": [
        "with open(\"TRAIN_SET.csv\",\"r\") as file:\n",
        "\treader = csv.reader(file)\n",
        "\tfor row in reader:\n",
        "\t\ttraining_set.append([row[1],row[3],row[4],row[5]])\n",
        "\t\ttraining_set_y.append(row[6])"
      ],
      "metadata": {
        "id": "Ib6Travo42vl"
      },
      "execution_count": 65,
      "outputs": []
    },
    {
      "cell_type": "code",
      "source": [
        "training_set = training_set[1:]\n",
        "training_set_y = training_set_y[1:]\n",
        "\n",
        "testing_set = []"
      ],
      "metadata": {
        "id": "RpJxLOK244O7"
      },
      "execution_count": 66,
      "outputs": []
    },
    {
      "cell_type": "code",
      "source": [
        "with open(\"TEST_SET3.csv\",\"r\") as file:\n",
        "\treader = csv.reader(file)\n",
        "\tfor row in reader:\n",
        "\t\ttesting_set.append([row[1],row[3],row[4],row[5]])"
      ],
      "metadata": {
        "id": "XHE4XzsH459X"
      },
      "execution_count": 67,
      "outputs": []
    },
    {
      "cell_type": "code",
      "source": [
        "testing_set = testing_set[1:]\n",
        "training_values = tf.placeholder(\"float\",[None,len(training_set[0])])\n",
        "test_values     = tf.placeholder(\"float\",[len(training_set[0])])"
      ],
      "metadata": {
        "id": "BrpVGcvC48fo"
      },
      "execution_count": 68,
      "outputs": []
    },
    {
      "cell_type": "code",
      "source": [
        "# This is the distance formula to calculate the distance between the test values and the training values\n",
        "distance = tf.reduce_sum(tf.abs(tf.add(training_values,tf.negative(test_values))),reduction_indices=1) \t\n",
        "\n",
        "# Returns the index with the smallest value across dimensions of a tensor\n",
        "prediction = tf.arg_min(distance,0)\n",
        "\n",
        "\n",
        "# Initializing  the session\n",
        "init = tf.initialize_all_variables()"
      ],
      "metadata": {
        "id": "Y1UDgp-m480H"
      },
      "execution_count": 69,
      "outputs": []
    },
    {
      "cell_type": "code",
      "source": [
        "with tf.Session() as sess:\n",
        "\tsess.run(init)\t\n",
        "\t# Looping through the test set to compare against the training set\n",
        "\tfor i in range (len(testing_set)):\n",
        "\t\t# Tensor flow method to get the prediction nearer to the test parameters from the training set.\n",
        "\t\tindex_in_trainingset = sess.run(prediction,feed_dict={training_values:training_set,test_values:testing_set[i]})\t\n",
        "\n",
        "\t\tprint (\"Test %d, and the prediction is %s\"%(i,training_set_y[index_in_trainingset]))"
      ],
      "metadata": {
        "colab": {
          "base_uri": "https://localhost:8080/"
        },
        "id": "qPhTW9BR5A7S",
        "outputId": "9b54f2ed-941a-4d27-f0ef-9c6f79fd3e16"
      },
      "execution_count": 70,
      "outputs": [
        {
          "output_type": "stream",
          "name": "stdout",
          "text": [
            "Test 0, and the prediction is 58\n",
            "Test 1, and the prediction is 80\n"
          ]
        }
      ]
    }
  ]
}